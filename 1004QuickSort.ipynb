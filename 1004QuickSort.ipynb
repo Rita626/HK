{
 "cells": [
  {
   "cell_type": "code",
   "execution_count": 7,
   "metadata": {},
   "outputs": [],
   "source": [
    "#Quick Sort\n",
    "\n",
    "def quick_sort1(list, left, right): #in-place原地分割\n",
    "    if left >= right:\n",
    "        return list\n",
    "    key = list[left]\n",
    "    left_key = left\n",
    "    right_key = right\n",
    "    while left_key < right_key:\n",
    "        while left_key < right_key and list[right_key] >= key: #從左向右找小於key值的資料\n",
    "            right_key = right_key - 1\n",
    "        while left_key < right_key and list[left_key] <= key: #從右向左找大於key值的資料\n",
    "            left_key = left_key + 1\n",
    "        if left_key < right_key:\n",
    "            list[left_key], list[right_key] = list[right_key], list[left_key]\n",
    "    list[left], list[left_key] = list[left_key], list[left] #跟key值交換\n",
    "    quick_sort1(list, left, left_key - 1)\n",
    "    quick_sort1(list, right_key + 1, right)\n",
    "    return list\n",
    "\n",
    "def quick_sort(list):\n",
    "    return quick_sort1(list, 0, len(list)-1)"
   ]
  },
  {
   "cell_type": "code",
   "execution_count": 9,
   "metadata": {},
   "outputs": [
    {
     "name": "stdout",
     "output_type": "stream",
     "text": [
      "result： [6, 7, 12, 26, 29, 87, 1998]\n"
     ]
    }
   ],
   "source": [
    "#測試\n",
    "\n",
    "test = [87, 6, 26, 1998, 7, 29, 12]\n",
    "print (\"result：\", quick_sort(test))"
   ]
  },
  {
   "cell_type": "code",
   "execution_count": null,
   "metadata": {},
   "outputs": [],
   "source": [
    "#理解\n",
    "\n",
    "#先將一個值定為key，再從後面的資料中左向找大的，右向找小的。"
   ]
  }
 ],
 "metadata": {
  "kernelspec": {
   "display_name": "Python 3",
   "language": "python",
   "name": "python3"
  },
  "language_info": {
   "codemirror_mode": {
    "name": "ipython",
    "version": 3
   },
   "file_extension": ".py",
   "mimetype": "text/x-python",
   "name": "python",
   "nbconvert_exporter": "python",
   "pygments_lexer": "ipython3",
   "version": "3.7.3"
  }
 },
 "nbformat": 4,
 "nbformat_minor": 2
}
