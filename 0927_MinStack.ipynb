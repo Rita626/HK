{
 "cells": [
  {
   "cell_type": "code",
   "execution_count": 1,
   "metadata": {},
   "outputs": [],
   "source": [
    "class MinStack:\n",
    "\n",
    "    def __init__(self):\n",
    "        self.list = []\n",
    "\n",
    "    def push(self, x: int) -> None:            \n",
    "        return self.list.append(x)\n",
    "\n",
    "    def pop(self) -> None:\n",
    "        return self.list.pop(-1)\n",
    "\n",
    "    def top(self) -> int:\n",
    "        return self.list[-1]\n",
    "\n",
    "    def getMin(self) -> int:\n",
    "        return min(self.list)"
   ]
  },
  {
   "cell_type": "code",
   "execution_count": null,
   "metadata": {},
   "outputs": [],
   "source": [
    "#先存入資料，再把最上面(第一個)的資料移除，並回傳最上面的資料"
   ]
  }
 ],
 "metadata": {
  "kernelspec": {
   "display_name": "Python 3",
   "language": "python",
   "name": "python3"
  },
  "language_info": {
   "codemirror_mode": {
    "name": "ipython",
    "version": 3
   },
   "file_extension": ".py",
   "mimetype": "text/x-python",
   "name": "python",
   "nbconvert_exporter": "python",
   "pygments_lexer": "ipython3",
   "version": "3.7.3"
  }
 },
 "nbformat": 4,
 "nbformat_minor": 2
}
